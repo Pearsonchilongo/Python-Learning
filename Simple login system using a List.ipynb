{
 "cells": [
  {
   "cell_type": "code",
   "execution_count": 1,
   "id": "0e8ecfae",
   "metadata": {},
   "outputs": [],
   "source": [
    "### Adding inputs to the list from the users!! ( a simple log in system using a list data-type)"
   ]
  },
  {
   "cell_type": "code",
   "execution_count": 7,
   "id": "565b32cd",
   "metadata": {},
   "outputs": [
    {
     "name": "stdout",
     "output_type": "stream",
     "text": [
      "Kindly set your password: one\n",
      "\n",
      "Your password as successfully been set! Feel free to login\n",
      "Please enter your password, if you wish to login: one\n",
      "\n",
      "Hello!! You have successfully logged on the system\n"
     ]
    }
   ],
   "source": [
    "db=[]  ## This list stores the password\n",
    "\n",
    "db.append(input('Kindly set your password: '))   #The user enters the password which is entered in the list\n",
    "\n",
    "print('\\nYour password as successfully been set! Feel free to login')\n",
    "\n",
    "password = input('Please enter your password, if you wish to login: ')  #login option\n",
    "\n",
    "#The following condition statements compares the password in the list and login option\n",
    "\n",
    "if password == db[0]:\n",
    "    print('\\nHello!! You have successfully logged on the system')\n",
    "else:\n",
    "    print('\\nSorry, am afraid the password you entered is incorrect' )"
   ]
  },
  {
   "cell_type": "code",
   "execution_count": null,
   "id": "17a56cd8",
   "metadata": {},
   "outputs": [],
   "source": []
  }
 ],
 "metadata": {
  "kernelspec": {
   "display_name": "Python 3",
   "language": "python",
   "name": "python3"
  },
  "language_info": {
   "codemirror_mode": {
    "name": "ipython",
    "version": 3
   },
   "file_extension": ".py",
   "mimetype": "text/x-python",
   "name": "python",
   "nbconvert_exporter": "python",
   "pygments_lexer": "ipython3",
   "version": "3.8.8"
  }
 },
 "nbformat": 4,
 "nbformat_minor": 5
}
