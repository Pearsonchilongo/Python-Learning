{
 "cells": [
  {
   "cell_type": "code",
   "execution_count": 2,
   "id": "ebaf549a",
   "metadata": {},
   "outputs": [],
   "source": [
    "## Checking Voters Eligibilty system"
   ]
  },
  {
   "cell_type": "code",
   "execution_count": 2,
   "id": "5cb00710",
   "metadata": {},
   "outputs": [
    {
     "name": "stdout",
     "output_type": "stream",
     "text": [
      "Please enter your full names:\n",
      " pearson chilongo\n",
      "How old are you?\n",
      " 11\n",
      "To check if you are not a robot\n",
      "\n",
      "What year are we in?\n",
      "2021\n",
      "*********************************************\n",
      "\n",
      "Hello Pearson Chilongo \n",
      "We are sorry to inform you that you are not eligible for this year's 2021 Elections\n",
      "\n",
      "Please be informed that you'll only be eligible to vote in the year 2028\n"
     ]
    }
   ],
   "source": [
    "### the following 3 variables collect user input!\n",
    "fullname = input(\"Please enter your full names:\\n \")\n",
    "age = int(input(\"How old are you?\\n \"))\n",
    "year = int(input(\"To check if you are not a robot\\n\\nWhat year are we in?\\n\"))\n",
    "\n",
    "##eli = (eligibility) and wh =(when the user will vote)\n",
    "## the following 2 variables simply calculates the time when a user will be eligible based on their input \n",
    "## Assumption: Exams are held held every 5 years \n",
    "\n",
    "eli = 18 - age\n",
    "wh = eli + year\n",
    "\n",
    "## this is the out expected \n",
    "print(\"*********************************************\\n\")\n",
    "\n",
    "if age >= 18:\n",
    "    print(f\"Hello! {fullname.title()} \\nWe are happy to inform you that you are Eligible to vote in this year's  {year} Elections\")\n",
    "    \n",
    "else: \n",
    "    print(f\"Hello {fullname.title()} \\nWe are sorry to inform you that you are not eligible for this year's {year} Elections\\n\")\n",
    "    print(f\"Please be informed that you'll only be eligible to vote in the year {wh}\")"
   ]
  },
  {
   "cell_type": "code",
   "execution_count": null,
   "id": "503b63b2",
   "metadata": {},
   "outputs": [],
   "source": []
  },
  {
   "cell_type": "code",
   "execution_count": null,
   "id": "d5e183f4",
   "metadata": {},
   "outputs": [],
   "source": []
  }
 ],
 "metadata": {
  "kernelspec": {
   "display_name": "Python 3",
   "language": "python",
   "name": "python3"
  },
  "language_info": {
   "codemirror_mode": {
    "name": "ipython",
    "version": 3
   },
   "file_extension": ".py",
   "mimetype": "text/x-python",
   "name": "python",
   "nbconvert_exporter": "python",
   "pygments_lexer": "ipython3",
   "version": "3.8.8"
  }
 },
 "nbformat": 4,
 "nbformat_minor": 5
}
